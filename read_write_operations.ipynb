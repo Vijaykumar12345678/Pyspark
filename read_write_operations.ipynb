{
 "cells": [
  {
   "cell_type": "markdown",
   "metadata": {},
   "source": [
    "\n",
    "@Author:Vijay Kumar M N<br>\n",
    "@Date: 2024-10-14<br>\n",
    "@Last Modified by: Vijay Kumar M N<br>\n",
    "@Last Modified: 2024-10-14<br>\n",
    "@Title : Writing the read and write operations using pyspark<br>"
   ]
  },
  {
   "cell_type": "code",
   "execution_count": 20,
   "metadata": {},
   "outputs": [],
   "source": [
    "from pyspark.sql import SparkSession\n",
    "from pyspark.sql import functions as F\n",
    "\n",
    "# Initialize Spark session\n",
    "spark = SparkSession.builder.appName(\"ReadAndWriteExample\").getOrCreate()\n"
   ]
  },
  {
   "cell_type": "code",
   "execution_count": 3,
   "metadata": {},
   "outputs": [
    {
     "data": {
      "text/html": [
       "\n",
       "            <div>\n",
       "                <p><b>SparkSession - in-memory</b></p>\n",
       "                \n",
       "        <div>\n",
       "            <p><b>SparkContext</b></p>\n",
       "\n",
       "            <p><a href=\"http://DESKTOP-9ELS0L3:4040\">Spark UI</a></p>\n",
       "\n",
       "            <dl>\n",
       "              <dt>Version</dt>\n",
       "                <dd><code>v3.5.3</code></dd>\n",
       "              <dt>Master</dt>\n",
       "                <dd><code>local[*]</code></dd>\n",
       "              <dt>AppName</dt>\n",
       "                <dd><code>ReadAndWriteExample</code></dd>\n",
       "            </dl>\n",
       "        </div>\n",
       "        \n",
       "            </div>\n",
       "        "
      ],
      "text/plain": [
       "<pyspark.sql.session.SparkSession at 0x2d55240aed0>"
      ]
     },
     "execution_count": 3,
     "metadata": {},
     "output_type": "execute_result"
    }
   ],
   "source": [
    "spark"
   ]
  },
  {
   "cell_type": "code",
   "execution_count": 4,
   "metadata": {},
   "outputs": [
    {
     "name": "stdout",
     "output_type": "stream",
     "text": [
      "+-----------+-------------+----------+--------+\n",
      "|customer_id|customer_name| join_date|location|\n",
      "+-----------+-------------+----------+--------+\n",
      "|        105|          Eva|2022-01-01|    Ohio|\n",
      "|        106|        Frank|2022-02-01|  Nevada|\n",
      "|        107|        Grace|2022-03-01|Colorado|\n",
      "|        108|        Henry|2022-04-01|    Utah|\n",
      "+-----------+-------------+----------+--------+\n",
      "\n"
     ]
    }
   ],
   "source": [
    "#reading csv file\n",
    "try:\n",
    "    df_csv = spark.read.csv(\"C:/Users/Admin/Downloads/Customer_Updated.csv\", header=True, inferSchema=True)\n",
    "    df_csv.show()\n",
    "except Exception as e:\n",
    "    print(f\"could not load the file:{e}\")"
   ]
  },
  {
   "cell_type": "code",
   "execution_count": 5,
   "metadata": {},
   "outputs": [],
   "source": [
    "#writing json file format\n",
    "df_csv.write.json(\"C:/Users/Admin/Desktop/pyspark/customer_updated(json).json\")\n"
   ]
  },
  {
   "cell_type": "code",
   "execution_count": 21,
   "metadata": {},
   "outputs": [
    {
     "name": "stdout",
     "output_type": "stream",
     "text": [
      "+-----------+-------------+----------+--------+\n",
      "|customer_id|customer_name| join_date|location|\n",
      "+-----------+-------------+----------+--------+\n",
      "|        105|          Eva|2022-01-01|    Ohio|\n",
      "|        106|        Frank|2022-02-01|  Nevada|\n",
      "|        107|        Grace|2022-03-01|Colorado|\n",
      "|        108|        Henry|2022-04-01|    Utah|\n",
      "+-----------+-------------+----------+--------+\n",
      "\n"
     ]
    }
   ],
   "source": [
    "#reading csv file\n",
    "try:\n",
    "    df_csv = spark.read.csv(\"C:/Users/Admin/Downloads/Customer_Updated.csv\", header=True, inferSchema=True)\n",
    "    df_single_col = df_csv.withColumn(\"combined\", \n",
    "        F.concat_ws(\", \", df_csv[\"customer_id\"], df_csv[\"customer_name\"], df_csv[\"join_date\"], df_csv[\"location\"]))\n",
    "    df_csv.show()\n",
    "except Exception as e:\n",
    "    print(f\"could not load the file:{e}\")"
   ]
  },
  {
   "cell_type": "code",
   "execution_count": 23,
   "metadata": {},
   "outputs": [],
   "source": [
    "#writing text file format\n",
    "df_single_col.select(\"combined\").write.text(\"C:/Users/Admin/Desktop/pyspark/customer_updated(text).text\")"
   ]
  },
  {
   "cell_type": "code",
   "execution_count": 28,
   "metadata": {},
   "outputs": [
    {
     "name": "stdout",
     "output_type": "stream",
     "text": [
      "+--------------------+\n",
      "|               value|\n",
      "+--------------------+\n",
      "|105, Eva, 2022-01...|\n",
      "|106, Frank, 2022-...|\n",
      "|107, Grace, 2022-...|\n",
      "|108, Henry, 2022-...|\n",
      "+--------------------+\n",
      "\n"
     ]
    }
   ],
   "source": [
    "#reading csv file\n",
    "try:\n",
    "    df_text = spark.read.text(\"C:/Users/Admin/Desktop/Customer_Updated.txt\")\n",
    "    df_text.show()\n",
    "except Exception as e:\n",
    "    print(f\"could not load the file:{e}\")"
   ]
  },
  {
   "cell_type": "code",
   "execution_count": 29,
   "metadata": {},
   "outputs": [],
   "source": [
    "#writing json file format\n",
    "df_text.write.csv(\"C:/Users/Admin/Desktop/pyspark/customer_updated(csv).csv\")\n"
   ]
  },
  {
   "cell_type": "code",
   "execution_count": null,
   "metadata": {},
   "outputs": [],
   "source": []
  }
 ],
 "metadata": {
  "kernelspec": {
   "display_name": "Python 3.12.3 64-bit",
   "language": "python",
   "name": "python3"
  },
  "language_info": {
   "codemirror_mode": {
    "name": "ipython",
    "version": 3
   },
   "file_extension": ".py",
   "mimetype": "text/x-python",
   "name": "python",
   "nbconvert_exporter": "python",
   "pygments_lexer": "ipython3",
   "version": "3.12.3"
  },
  "orig_nbformat": 4,
  "vscode": {
   "interpreter": {
    "hash": "3fcbd7240ee8f908d933dc7f71e8c42a1a91163b70ede8dcff5146d4087436c7"
   }
  }
 },
 "nbformat": 4,
 "nbformat_minor": 2
}
