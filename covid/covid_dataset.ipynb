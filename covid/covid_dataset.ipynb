{
 "cells": [
  {
   "cell_type": "markdown",
   "metadata": {},
   "source": [
    "@Author:Vijay Kumar M N<br>\n",
    "@Date: 2024-10-10<br>\n",
    "@Last Modified by:Vijay Kumar M N<br>\n",
    "@Last Modified: 2024-10-10<br>\n",
    "@Title :Python Program on covid dataset operation by pyspark</br>"
   ]
  },
  {
   "cell_type": "code",
   "execution_count": 105,
   "metadata": {},
   "outputs": [],
   "source": [
    "from pyspark.sql import  SparkSession\n",
    "from pyspark.sql.functions import expr,col\n",
    "spark=(SparkSession.builder.appName(\"Covid_operations\").master(\"local[*]\").getOrCreate())"
   ]
  },
  {
   "cell_type": "code",
   "execution_count": 106,
   "metadata": {},
   "outputs": [
    {
     "data": {
      "text/html": [
       "\n",
       "            <div>\n",
       "                <p><b>SparkSession - in-memory</b></p>\n",
       "                \n",
       "        <div>\n",
       "            <p><b>SparkContext</b></p>\n",
       "\n",
       "            <p><a href=\"http://DESKTOP-9ELS0L3:4040\">Spark UI</a></p>\n",
       "\n",
       "            <dl>\n",
       "              <dt>Version</dt>\n",
       "                <dd><code>v3.5.3</code></dd>\n",
       "              <dt>Master</dt>\n",
       "                <dd><code>local[*]</code></dd>\n",
       "              <dt>AppName</dt>\n",
       "                <dd><code>Covid_operations</code></dd>\n",
       "            </dl>\n",
       "        </div>\n",
       "        \n",
       "            </div>\n",
       "        "
      ],
      "text/plain": [
       "<pyspark.sql.session.SparkSession at 0x28d5ffb32f0>"
      ]
     },
     "execution_count": 106,
     "metadata": {},
     "output_type": "execute_result"
    }
   ],
   "source": [
    "spark"
   ]
  },
  {
   "cell_type": "code",
   "execution_count": 107,
   "metadata": {},
   "outputs": [
    {
     "name": "stderr",
     "output_type": "stream",
     "text": [
      "<>:3: SyntaxWarning: invalid escape sequence '\\s'\n",
      "<>:3: SyntaxWarning: invalid escape sequence '\\s'\n",
      "C:\\Users\\Admin\\AppData\\Local\\Temp\\ipykernel_13932\\1667553111.py:3: SyntaxWarning: invalid escape sequence '\\s'\n",
      "  statewisetesting= spark.read.csv(\"C://Users//Admin//Desktop\\sql//Covid Problem//StatewiseTestingDetails.csv\", header=True, inferSchema=True)\n"
     ]
    }
   ],
   "source": [
    "#reading a files\n",
    "worldometer = spark.read.csv(\"C://Users//Admin//Desktop//sql//worldometer_data.csv\", header=True, inferSchema=True)\n",
    "covid_19_india= spark.read.csv(\"C://Users//Admin//Desktop//sql//Covid Problem//covid_19_india.csv\", header=True, inferSchema=True)\n",
    "statewisetesting= spark.read.csv(\"C://Users//Admin//Desktop\\sql//Covid Problem//StatewiseTestingDetails.csv\", header=True, inferSchema=True)\n",
    "covid_19_clean_complete = spark.read.csv(\"C://Users//Admin//Desktop//sql//covid_19_clean_complete.csv\", header=True, inferSchema=True)\n"
   ]
  },
  {
   "cell_type": "code",
   "execution_count": 108,
   "metadata": {},
   "outputs": [],
   "source": [
    "#creating a temp views\n",
    "worldometer.createOrReplaceTempView(\"worldometer\")\n",
    "covid_19_india.createOrReplaceTempView(\"covid_19_india\")\n",
    "statewisetesting.createOrReplaceTempView(\"statewisetestings\")\n",
    "covid_19_clean_complete.createOrReplaceTempView(\"covid_19_clean_complete\")"
   ]
  },
  {
   "cell_type": "markdown",
   "metadata": {},
   "source": [
    "1. To find out the death percentage locally and globally"
   ]
  },
  {
   "cell_type": "code",
   "execution_count": 109,
   "metadata": {},
   "outputs": [
    {
     "name": "stdout",
     "output_type": "stream",
     "text": [
      "root\n",
      " |-- Country/Region: string (nullable = true)\n",
      " |-- Continent: string (nullable = true)\n",
      " |-- Population: integer (nullable = true)\n",
      " |-- TotalCases: integer (nullable = true)\n",
      " |-- NewCases: integer (nullable = true)\n",
      " |-- TotalDeaths: integer (nullable = true)\n",
      " |-- NewDeaths: integer (nullable = true)\n",
      " |-- TotalRecovered: integer (nullable = true)\n",
      " |-- NewRecovered: integer (nullable = true)\n",
      " |-- ActiveCases: integer (nullable = true)\n",
      " |-- Serious,Critical: integer (nullable = true)\n",
      " |-- Tot Cases/1M pop: integer (nullable = true)\n",
      " |-- Deaths/1M pop: double (nullable = true)\n",
      " |-- TotalTests: integer (nullable = true)\n",
      " |-- Tests/1M pop: integer (nullable = true)\n",
      " |-- WHO Region: string (nullable = true)\n",
      "\n",
      "+--------------+-------------+----------+----------+--------+-----------+---------+--------------+------------+-----------+----------------+----------------+-------------+----------+------------+--------------------+\n",
      "|Country/Region|    Continent|Population|TotalCases|NewCases|TotalDeaths|NewDeaths|TotalRecovered|NewRecovered|ActiveCases|Serious,Critical|Tot Cases/1M pop|Deaths/1M pop|TotalTests|Tests/1M pop|          WHO Region|\n",
      "+--------------+-------------+----------+----------+--------+-----------+---------+--------------+------------+-----------+----------------+----------------+-------------+----------+------------+--------------------+\n",
      "|           USA|North America| 331198130|   5032179|    NULL|     162804|     NULL|       2576668|        NULL|    2292707|           18296|           15194|        492.0|  63139605|      190640|            Americas|\n",
      "|        Brazil|South America| 212710692|   2917562|    NULL|      98644|     NULL|       2047660|        NULL|     771258|            8318|           13716|        464.0|  13206188|       62085|            Americas|\n",
      "|         India|         Asia|1381344997|   2025409|    NULL|      41638|     NULL|       1377384|        NULL|     606387|            8944|            1466|         30.0|  22149351|       16035|      South-EastAsia|\n",
      "|        Russia|       Europe| 145940924|    871894|    NULL|      14606|     NULL|        676357|        NULL|     180931|            2300|            5974|        100.0|  29716907|      203623|              Europe|\n",
      "|  South Africa|       Africa|  59381566|    538184|    NULL|       9604|     NULL|        387316|        NULL|     141264|             539|            9063|        162.0|   3149807|       53044|              Africa|\n",
      "|        Mexico|North America| 129066160|    462690|    6590|      50517|      819|        308848|        4140|     103325|            3987|            3585|        391.0|   1056915|        8189|            Americas|\n",
      "|          Peru|South America|  33016319|    455409|    NULL|      20424|     NULL|        310337|        NULL|     124648|            1426|           13793|        619.0|   2493429|       75521|            Americas|\n",
      "|         Chile|South America|  19132514|    366671|    NULL|       9889|     NULL|        340168|        NULL|      16614|            1358|           19165|        517.0|   1760615|       92022|            Americas|\n",
      "|      Colombia|South America|  50936262|    357710|    NULL|      11939|     NULL|        192355|        NULL|     153416|            1493|            7023|        234.0|   1801835|       35374|            Americas|\n",
      "|         Spain|       Europe|  46756648|    354530|    NULL|      28500|     NULL|          NULL|        NULL|       NULL|             617|            7582|        610.0|   7064329|      151087|              Europe|\n",
      "|          Iran|         Asia|  84097623|    320117|    NULL|      17976|     NULL|        277463|        NULL|      24678|            4156|            3806|        214.0|   2612763|       31068|EasternMediterranean|\n",
      "|            UK|       Europe|  67922029|    308134|    NULL|      46413|     NULL|          NULL|        NULL|       NULL|              73|            4537|        683.0|  17515234|      257873|              Europe|\n",
      "|  Saudi Arabia|         Asia|  34865919|    284226|    NULL|       3055|     NULL|        247089|        NULL|      34082|            1915|            8152|         88.0|   3635705|      104277|EasternMediterranean|\n",
      "|      Pakistan|         Asia| 221295851|    281863|    NULL|       6035|     NULL|        256058|        NULL|      19770|             809|            1274|         27.0|   2058872|        9304|EasternMediterranean|\n",
      "|    Bangladesh|         Asia| 164851401|    249651|    NULL|       3306|     NULL|        143824|        NULL|     102521|            NULL|            1514|         20.0|   1225124|        7432|      South-EastAsia|\n",
      "|         Italy|       Europe|  60452568|    249204|    NULL|      35187|     NULL|        201323|        NULL|      12694|              42|            4122|        582.0|   7099713|      117443|              Europe|\n",
      "|        Turkey|         Asia|  84428331|    237265|    NULL|       5798|     NULL|        220546|        NULL|      10921|             580|            2810|         69.0|   5081802|       60191|              Europe|\n",
      "|     Argentina|South America|  45236884|    228195|    NULL|       4251|     NULL|         99852|        NULL|     124092|            1150|            5044|         94.0|    794544|       17564|            Americas|\n",
      "|       Germany|       Europe|  83811260|    215210|    NULL|       9252|     NULL|        196200|        NULL|       9758|             236|            2568|        110.0|   8586648|      102452|              Europe|\n",
      "|        France|       Europe|  65288306|    195633|    NULL|      30312|     NULL|         82460|        NULL|      82861|             384|            2996|        464.0|   3992206|       61147|              Europe|\n",
      "+--------------+-------------+----------+----------+--------+-----------+---------+--------------+------------+-----------+----------------+----------------+-------------+----------+------------+--------------------+\n",
      "only showing top 20 rows\n",
      "\n"
     ]
    }
   ],
   "source": [
    "#to find the death percentage globally\n",
    "worldometer.printSchema()\n",
    "worldometer.show()\n"
   ]
  },
  {
   "cell_type": "code",
   "execution_count": 110,
   "metadata": {},
   "outputs": [
    {
     "name": "stdout",
     "output_type": "stream",
     "text": [
      "+-----------+----------+---------------+\n",
      "|TotalDeaths|TotalCases|DeathPercentage|\n",
      "+-----------+----------+---------------+\n",
      "|     713007|  19169166|           3.72|\n",
      "+-----------+----------+---------------+\n",
      "\n"
     ]
    }
   ],
   "source": [
    "#to find the death percentage globally\n",
    "covid_globally_death_percentage = \"\"\"\n",
    "SELECT \n",
    "    sum(TotalDeaths) AS TotalDeaths,\n",
    "    sum(TotalCases) AS TotalCases,\n",
    "    ROUND(sum(TotalDeaths) / sum(TotalCases) * 100, 2) AS DeathPercentage\n",
    "FROM \n",
    "    Global_data\n",
    "\"\"\"\n",
    "spark.sql(covid_globally_death_percentage).show()\n"
   ]
  },
  {
   "cell_type": "code",
   "execution_count": 111,
   "metadata": {},
   "outputs": [
    {
     "name": "stdout",
     "output_type": "stream",
     "text": [
      "root\n",
      " |-- Sno: integer (nullable = true)\n",
      " |-- Date: date (nullable = true)\n",
      " |-- Time: string (nullable = true)\n",
      " |-- State/UnionTerritory: string (nullable = true)\n",
      " |-- ConfirmedIndianNational: string (nullable = true)\n",
      " |-- ConfirmedForeignNational: string (nullable = true)\n",
      " |-- Cured: integer (nullable = true)\n",
      " |-- Deaths: integer (nullable = true)\n",
      " |-- Confirmed: integer (nullable = true)\n",
      "\n",
      "+---+----------+-------+--------------------+-----------------------+------------------------+-----+------+---------+\n",
      "|Sno|      Date|   Time|State/UnionTerritory|ConfirmedIndianNational|ConfirmedForeignNational|Cured|Deaths|Confirmed|\n",
      "+---+----------+-------+--------------------+-----------------------+------------------------+-----+------+---------+\n",
      "|  1|2020-01-30|6:00 PM|              Kerala|                      1|                       0|    0|     0|        1|\n",
      "|  2|2020-01-31|6:00 PM|              Kerala|                      1|                       0|    0|     0|        1|\n",
      "|  3|2020-02-01|6:00 PM|              Kerala|                      2|                       0|    0|     0|        2|\n",
      "|  4|2020-02-02|6:00 PM|              Kerala|                      3|                       0|    0|     0|        3|\n",
      "|  5|2020-02-03|6:00 PM|              Kerala|                      3|                       0|    0|     0|        3|\n",
      "|  6|2020-02-04|6:00 PM|              Kerala|                      3|                       0|    0|     0|        3|\n",
      "|  7|2020-02-05|6:00 PM|              Kerala|                      3|                       0|    0|     0|        3|\n",
      "|  8|2020-02-06|6:00 PM|              Kerala|                      3|                       0|    0|     0|        3|\n",
      "|  9|2020-02-07|6:00 PM|              Kerala|                      3|                       0|    0|     0|        3|\n",
      "| 10|2020-02-08|6:00 PM|              Kerala|                      3|                       0|    0|     0|        3|\n",
      "| 11|2020-02-09|6:00 PM|              Kerala|                      3|                       0|    0|     0|        3|\n",
      "| 12|2020-02-10|6:00 PM|              Kerala|                      3|                       0|    0|     0|        3|\n",
      "| 13|2020-02-11|6:00 PM|              Kerala|                      3|                       0|    0|     0|        3|\n",
      "| 14|2020-02-12|6:00 PM|              Kerala|                      3|                       0|    0|     0|        3|\n",
      "| 15|2020-02-13|6:00 PM|              Kerala|                      3|                       0|    0|     0|        3|\n",
      "| 16|2020-02-14|6:00 PM|              Kerala|                      3|                       0|    0|     0|        3|\n",
      "| 17|2020-02-15|6:00 PM|              Kerala|                      3|                       0|    0|     0|        3|\n",
      "| 18|2020-02-16|6:00 PM|              Kerala|                      3|                       0|    0|     0|        3|\n",
      "| 19|2020-02-17|6:00 PM|              Kerala|                      3|                       0|    0|     0|        3|\n",
      "| 20|2020-02-18|6:00 PM|              Kerala|                      3|                       0|    0|     0|        3|\n",
      "+---+----------+-------+--------------------+-----------------------+------------------------+-----+------+---------+\n",
      "only showing top 20 rows\n",
      "\n"
     ]
    }
   ],
   "source": [
    "#reading a file and showing schema\n",
    "covid_19_india.printSchema()\n",
    "covid_19_india.show()"
   ]
  },
  {
   "cell_type": "code",
   "execution_count": 112,
   "metadata": {},
   "outputs": [
    {
     "name": "stdout",
     "output_type": "stream",
     "text": [
      "+---------------+------------+------------------+\n",
      "|Total_Confirmed|Total_Deaths|percentage_locally|\n",
      "+---------------+------------+------------------+\n",
      "|     5451678687|    73389005|              1.35|\n",
      "+---------------+------------+------------------+\n",
      "\n"
     ]
    }
   ],
   "source": [
    "#to find out the death percentage locally\n",
    "covid_locally_death_percentage = \"\"\"\n",
    "SELECT \n",
    "    \n",
    "\tSUM(Confirmed) AS Total_Confirmed,\n",
    "    SUM(Deaths) AS Total_Deaths,\n",
    "    ROUND((SUM(Deaths) / SUM(Confirmed) * 100), 2) as percentage_locally\n",
    "FROM \n",
    "    covid_19_india\n",
    "\n",
    "\"\"\"\n",
    "spark.sql(covid_locally_death_percentage).show()\n"
   ]
  },
  {
   "cell_type": "markdown",
   "metadata": {},
   "source": [
    "2. To find out the infected population percentage locally and globally"
   ]
  },
  {
   "cell_type": "code",
   "execution_count": 113,
   "metadata": {},
   "outputs": [
    {
     "name": "stdout",
     "output_type": "stream",
     "text": [
      "+--------------+-------------+----------+----------+--------+-----------+---------+--------------+------------+-----------+----------------+----------------+-------------+----------+------------+--------------------+\n",
      "|Country/Region|    Continent|Population|TotalCases|NewCases|TotalDeaths|NewDeaths|TotalRecovered|NewRecovered|ActiveCases|Serious,Critical|Tot Cases/1M pop|Deaths/1M pop|TotalTests|Tests/1M pop|          WHO Region|\n",
      "+--------------+-------------+----------+----------+--------+-----------+---------+--------------+------------+-----------+----------------+----------------+-------------+----------+------------+--------------------+\n",
      "|           USA|North America| 331198130|   5032179|    NULL|     162804|     NULL|       2576668|        NULL|    2292707|           18296|           15194|        492.0|  63139605|      190640|            Americas|\n",
      "|        Brazil|South America| 212710692|   2917562|    NULL|      98644|     NULL|       2047660|        NULL|     771258|            8318|           13716|        464.0|  13206188|       62085|            Americas|\n",
      "|         India|         Asia|1381344997|   2025409|    NULL|      41638|     NULL|       1377384|        NULL|     606387|            8944|            1466|         30.0|  22149351|       16035|      South-EastAsia|\n",
      "|        Russia|       Europe| 145940924|    871894|    NULL|      14606|     NULL|        676357|        NULL|     180931|            2300|            5974|        100.0|  29716907|      203623|              Europe|\n",
      "|  South Africa|       Africa|  59381566|    538184|    NULL|       9604|     NULL|        387316|        NULL|     141264|             539|            9063|        162.0|   3149807|       53044|              Africa|\n",
      "|        Mexico|North America| 129066160|    462690|    6590|      50517|      819|        308848|        4140|     103325|            3987|            3585|        391.0|   1056915|        8189|            Americas|\n",
      "|          Peru|South America|  33016319|    455409|    NULL|      20424|     NULL|        310337|        NULL|     124648|            1426|           13793|        619.0|   2493429|       75521|            Americas|\n",
      "|         Chile|South America|  19132514|    366671|    NULL|       9889|     NULL|        340168|        NULL|      16614|            1358|           19165|        517.0|   1760615|       92022|            Americas|\n",
      "|      Colombia|South America|  50936262|    357710|    NULL|      11939|     NULL|        192355|        NULL|     153416|            1493|            7023|        234.0|   1801835|       35374|            Americas|\n",
      "|         Spain|       Europe|  46756648|    354530|    NULL|      28500|     NULL|          NULL|        NULL|       NULL|             617|            7582|        610.0|   7064329|      151087|              Europe|\n",
      "|          Iran|         Asia|  84097623|    320117|    NULL|      17976|     NULL|        277463|        NULL|      24678|            4156|            3806|        214.0|   2612763|       31068|EasternMediterranean|\n",
      "|            UK|       Europe|  67922029|    308134|    NULL|      46413|     NULL|          NULL|        NULL|       NULL|              73|            4537|        683.0|  17515234|      257873|              Europe|\n",
      "|  Saudi Arabia|         Asia|  34865919|    284226|    NULL|       3055|     NULL|        247089|        NULL|      34082|            1915|            8152|         88.0|   3635705|      104277|EasternMediterranean|\n",
      "|      Pakistan|         Asia| 221295851|    281863|    NULL|       6035|     NULL|        256058|        NULL|      19770|             809|            1274|         27.0|   2058872|        9304|EasternMediterranean|\n",
      "|    Bangladesh|         Asia| 164851401|    249651|    NULL|       3306|     NULL|        143824|        NULL|     102521|            NULL|            1514|         20.0|   1225124|        7432|      South-EastAsia|\n",
      "|         Italy|       Europe|  60452568|    249204|    NULL|      35187|     NULL|        201323|        NULL|      12694|              42|            4122|        582.0|   7099713|      117443|              Europe|\n",
      "|        Turkey|         Asia|  84428331|    237265|    NULL|       5798|     NULL|        220546|        NULL|      10921|             580|            2810|         69.0|   5081802|       60191|              Europe|\n",
      "|     Argentina|South America|  45236884|    228195|    NULL|       4251|     NULL|         99852|        NULL|     124092|            1150|            5044|         94.0|    794544|       17564|            Americas|\n",
      "|       Germany|       Europe|  83811260|    215210|    NULL|       9252|     NULL|        196200|        NULL|       9758|             236|            2568|        110.0|   8586648|      102452|              Europe|\n",
      "|        France|       Europe|  65288306|    195633|    NULL|      30312|     NULL|         82460|        NULL|      82861|             384|            2996|        464.0|   3992206|       61147|              Europe|\n",
      "+--------------+-------------+----------+----------+--------+-----------+---------+--------------+------------+-----------+----------------+----------------+-------------+----------+------------+--------------------+\n",
      "only showing top 20 rows\n",
      "\n",
      "root\n",
      " |-- Country/Region: string (nullable = true)\n",
      " |-- Continent: string (nullable = true)\n",
      " |-- Population: integer (nullable = true)\n",
      " |-- TotalCases: integer (nullable = true)\n",
      " |-- NewCases: integer (nullable = true)\n",
      " |-- TotalDeaths: integer (nullable = true)\n",
      " |-- NewDeaths: integer (nullable = true)\n",
      " |-- TotalRecovered: integer (nullable = true)\n",
      " |-- NewRecovered: integer (nullable = true)\n",
      " |-- ActiveCases: integer (nullable = true)\n",
      " |-- Serious,Critical: integer (nullable = true)\n",
      " |-- Tot Cases/1M pop: integer (nullable = true)\n",
      " |-- Deaths/1M pop: double (nullable = true)\n",
      " |-- TotalTests: integer (nullable = true)\n",
      " |-- Tests/1M pop: integer (nullable = true)\n",
      " |-- WHO Region: string (nullable = true)\n",
      "\n"
     ]
    }
   ],
   "source": [
    "#globally infected percentage\n",
    "worldometer.show()\n",
    "worldometer.printSchema()"
   ]
  },
  {
   "cell_type": "code",
   "execution_count": 114,
   "metadata": {},
   "outputs": [
    {
     "name": "stdout",
     "output_type": "stream",
     "text": [
      "+--------------+----------------+-------------------+\n",
      "|Total_Infected|Total_population|InfectionPercentage|\n",
      "+--------------+----------------+-------------------+\n",
      "|      19169166|      6326421290|                0.3|\n",
      "+--------------+----------------+-------------------+\n",
      "\n"
     ]
    }
   ],
   "source": [
    "#to find out the infected percentage globally\n",
    "covid_infected_death_percentage = \"\"\"\n",
    "select \n",
    "\tsum(TotalCases) as Total_Infected,\n",
    "\tsum(Population) as Total_population, \n",
    "\tROUND((SUM (TotalCases) / SUM(Population) * 100), 2) AS InfectionPercentage\n",
    "from \n",
    "\tworldometer;\n",
    "\n",
    "\"\"\"\n",
    "spark.sql(covid_infected_death_percentage).show()\n"
   ]
  },
  {
   "cell_type": "code",
   "execution_count": 115,
   "metadata": {},
   "outputs": [
    {
     "name": "stdout",
     "output_type": "stream",
     "text": [
      "+----------+--------------------+------------+--------+--------+\n",
      "|      Date|               State|TotalSamples|Negative|Positive|\n",
      "+----------+--------------------+------------+--------+--------+\n",
      "|2020-04-17|Andaman and Nicob...|      1403.0|    1210|    12.0|\n",
      "|2020-04-24|Andaman and Nicob...|      2679.0|    NULL|    27.0|\n",
      "|2020-04-27|Andaman and Nicob...|      2848.0|    NULL|    33.0|\n",
      "|2020-05-01|Andaman and Nicob...|      3754.0|    NULL|    33.0|\n",
      "|2020-05-16|Andaman and Nicob...|      6677.0|    NULL|    33.0|\n",
      "|2020-05-19|Andaman and Nicob...|      6965.0|    NULL|    33.0|\n",
      "|2020-05-20|Andaman and Nicob...|      7082.0|    NULL|    33.0|\n",
      "|2020-05-21|Andaman and Nicob...|      7167.0|    NULL|    33.0|\n",
      "|2020-05-22|Andaman and Nicob...|      7263.0|    NULL|    33.0|\n",
      "|2020-05-23|Andaman and Nicob...|      7327.0|    NULL|    33.0|\n",
      "|2020-05-24|Andaman and Nicob...|      7327.0|    NULL|    33.0|\n",
      "|2020-05-25|Andaman and Nicob...|      7363.0|    NULL|    33.0|\n",
      "|2020-05-26|Andaman and Nicob...|      7448.0|    NULL|    33.0|\n",
      "|2020-05-27|Andaman and Nicob...|      7499.0|    NULL|    33.0|\n",
      "|2020-05-28|Andaman and Nicob...|      7519.0|    NULL|    33.0|\n",
      "|2020-05-29|Andaman and Nicob...|      7567.0|    NULL|    33.0|\n",
      "|2020-05-30|Andaman and Nicob...|      7567.0|    NULL|    33.0|\n",
      "|2020-05-31|Andaman and Nicob...|      7706.0|    NULL|    33.0|\n",
      "|2020-06-01|Andaman and Nicob...|      7805.0|    NULL|    33.0|\n",
      "|2020-06-02|Andaman and Nicob...|      8086.0|    NULL|    33.0|\n",
      "+----------+--------------------+------------+--------+--------+\n",
      "only showing top 20 rows\n",
      "\n",
      "root\n",
      " |-- Date: date (nullable = true)\n",
      " |-- State: string (nullable = true)\n",
      " |-- TotalSamples: double (nullable = true)\n",
      " |-- Negative: string (nullable = true)\n",
      " |-- Positive: double (nullable = true)\n",
      "\n"
     ]
    }
   ],
   "source": [
    "#locally infected percentage\n",
    "statewisetesting.show()\n",
    "statewisetesting.printSchema()"
   ]
  },
  {
   "cell_type": "code",
   "execution_count": 116,
   "metadata": {},
   "outputs": [
    {
     "name": "stdout",
     "output_type": "stream",
     "text": [
      "+---------------+-------------+--------------------+\n",
      "|   TotalSamples|PositiveCases|Infection_percentage|\n",
      "+---------------+-------------+--------------------+\n",
      "|8.7829949447E10| 3.20053246E8|                0.36|\n",
      "+---------------+-------------+--------------------+\n",
      "\n"
     ]
    }
   ],
   "source": [
    "\n",
    "# to find out the infected percentage in locally\n",
    "covid_infected_locally_Infected_percentage = \"\"\"\n",
    "SELECT\n",
    "    sum(TotalSamples) AS TotalSamples,\n",
    "    sum(positive) AS PositiveCases,\n",
    "    ROUND((SUM(positive) / SUM(TotalSamples) * 100), 2) AS Infection_percentage\n",
    "FROM\n",
    "    statewisetestings;\n",
    "\"\"\"\n",
    "\n",
    "\n",
    "spark.sql(covid_infected_locally_Infected_percentage).show()\n"
   ]
  },
  {
   "cell_type": "markdown",
   "metadata": {},
   "source": [
    "\n",
    "--3. To find out the countries with the highest infection rates"
   ]
  },
  {
   "cell_type": "code",
   "execution_count": 117,
   "metadata": {},
   "outputs": [
    {
     "name": "stdout",
     "output_type": "stream",
     "text": [
      "root\n",
      " |-- Country/Region: string (nullable = true)\n",
      " |-- Continent: string (nullable = true)\n",
      " |-- Population: integer (nullable = true)\n",
      " |-- TotalCases: integer (nullable = true)\n",
      " |-- NewCases: integer (nullable = true)\n",
      " |-- TotalDeaths: integer (nullable = true)\n",
      " |-- NewDeaths: integer (nullable = true)\n",
      " |-- TotalRecovered: integer (nullable = true)\n",
      " |-- NewRecovered: integer (nullable = true)\n",
      " |-- ActiveCases: integer (nullable = true)\n",
      " |-- Serious,Critical: integer (nullable = true)\n",
      " |-- Tot Cases/1M pop: integer (nullable = true)\n",
      " |-- Deaths/1M pop: double (nullable = true)\n",
      " |-- TotalTests: integer (nullable = true)\n",
      " |-- Tests/1M pop: integer (nullable = true)\n",
      " |-- WHO Region: string (nullable = true)\n",
      "\n",
      "+--------------+-------------+----------+----------+--------+-----------+---------+--------------+------------+-----------+----------------+----------------+-------------+----------+------------+--------------------+\n",
      "|Country/Region|    Continent|Population|TotalCases|NewCases|TotalDeaths|NewDeaths|TotalRecovered|NewRecovered|ActiveCases|Serious,Critical|Tot Cases/1M pop|Deaths/1M pop|TotalTests|Tests/1M pop|          WHO Region|\n",
      "+--------------+-------------+----------+----------+--------+-----------+---------+--------------+------------+-----------+----------------+----------------+-------------+----------+------------+--------------------+\n",
      "|           USA|North America| 331198130|   5032179|    NULL|     162804|     NULL|       2576668|        NULL|    2292707|           18296|           15194|        492.0|  63139605|      190640|            Americas|\n",
      "|        Brazil|South America| 212710692|   2917562|    NULL|      98644|     NULL|       2047660|        NULL|     771258|            8318|           13716|        464.0|  13206188|       62085|            Americas|\n",
      "|         India|         Asia|1381344997|   2025409|    NULL|      41638|     NULL|       1377384|        NULL|     606387|            8944|            1466|         30.0|  22149351|       16035|      South-EastAsia|\n",
      "|        Russia|       Europe| 145940924|    871894|    NULL|      14606|     NULL|        676357|        NULL|     180931|            2300|            5974|        100.0|  29716907|      203623|              Europe|\n",
      "|  South Africa|       Africa|  59381566|    538184|    NULL|       9604|     NULL|        387316|        NULL|     141264|             539|            9063|        162.0|   3149807|       53044|              Africa|\n",
      "|        Mexico|North America| 129066160|    462690|    6590|      50517|      819|        308848|        4140|     103325|            3987|            3585|        391.0|   1056915|        8189|            Americas|\n",
      "|          Peru|South America|  33016319|    455409|    NULL|      20424|     NULL|        310337|        NULL|     124648|            1426|           13793|        619.0|   2493429|       75521|            Americas|\n",
      "|         Chile|South America|  19132514|    366671|    NULL|       9889|     NULL|        340168|        NULL|      16614|            1358|           19165|        517.0|   1760615|       92022|            Americas|\n",
      "|      Colombia|South America|  50936262|    357710|    NULL|      11939|     NULL|        192355|        NULL|     153416|            1493|            7023|        234.0|   1801835|       35374|            Americas|\n",
      "|         Spain|       Europe|  46756648|    354530|    NULL|      28500|     NULL|          NULL|        NULL|       NULL|             617|            7582|        610.0|   7064329|      151087|              Europe|\n",
      "|          Iran|         Asia|  84097623|    320117|    NULL|      17976|     NULL|        277463|        NULL|      24678|            4156|            3806|        214.0|   2612763|       31068|EasternMediterranean|\n",
      "|            UK|       Europe|  67922029|    308134|    NULL|      46413|     NULL|          NULL|        NULL|       NULL|              73|            4537|        683.0|  17515234|      257873|              Europe|\n",
      "|  Saudi Arabia|         Asia|  34865919|    284226|    NULL|       3055|     NULL|        247089|        NULL|      34082|            1915|            8152|         88.0|   3635705|      104277|EasternMediterranean|\n",
      "|      Pakistan|         Asia| 221295851|    281863|    NULL|       6035|     NULL|        256058|        NULL|      19770|             809|            1274|         27.0|   2058872|        9304|EasternMediterranean|\n",
      "|    Bangladesh|         Asia| 164851401|    249651|    NULL|       3306|     NULL|        143824|        NULL|     102521|            NULL|            1514|         20.0|   1225124|        7432|      South-EastAsia|\n",
      "|         Italy|       Europe|  60452568|    249204|    NULL|      35187|     NULL|        201323|        NULL|      12694|              42|            4122|        582.0|   7099713|      117443|              Europe|\n",
      "|        Turkey|         Asia|  84428331|    237265|    NULL|       5798|     NULL|        220546|        NULL|      10921|             580|            2810|         69.0|   5081802|       60191|              Europe|\n",
      "|     Argentina|South America|  45236884|    228195|    NULL|       4251|     NULL|         99852|        NULL|     124092|            1150|            5044|         94.0|    794544|       17564|            Americas|\n",
      "|       Germany|       Europe|  83811260|    215210|    NULL|       9252|     NULL|        196200|        NULL|       9758|             236|            2568|        110.0|   8586648|      102452|              Europe|\n",
      "|        France|       Europe|  65288306|    195633|    NULL|      30312|     NULL|         82460|        NULL|      82861|             384|            2996|        464.0|   3992206|       61147|              Europe|\n",
      "+--------------+-------------+----------+----------+--------+-----------+---------+--------------+------------+-----------+----------------+----------------+-------------+----------+------------+--------------------+\n",
      "only showing top 20 rows\n",
      "\n"
     ]
    }
   ],
   "source": [
    "#showing the worldometer data and creating a tempview\n",
    "worldometer.printSchema()\n",
    "worldometer.show()\n"
   ]
  },
  {
   "cell_type": "code",
   "execution_count": 118,
   "metadata": {},
   "outputs": [
    {
     "name": "stdout",
     "output_type": "stream",
     "text": [
      "+--------------+----------+----------+---------------+\n",
      "|Country/Region|TotalCases|Population|Infection_Rates|\n",
      "+--------------+----------+----------+---------------+\n",
      "|         Qatar|    112092|   2807805|           3.99|\n",
      "| French Guiana|      8127|    299385|           2.71|\n",
      "|       Bahrain|     42889|   1706669|           2.51|\n",
      "|    San Marino|       699|     33938|           2.06|\n",
      "|         Chile|    366671|  19132514|           1.92|\n",
      "|        Panama|     71418|   4321282|           1.65|\n",
      "|        Kuwait|     70045|   4276658|           1.64|\n",
      "|          Oman|     80713|   5118446|           1.58|\n",
      "|           USA|   5032179| 331198130|           1.52|\n",
      "|  Vatican City|        12|       801|            1.5|\n",
      "+--------------+----------+----------+---------------+\n",
      "\n"
     ]
    }
   ],
   "source": [
    "#countries with highest infection rate\n",
    "infected_highest = \"\"\"\n",
    "SELECT \n",
    "    `Country/Region`,\n",
    "    SUM(TotalCases) AS TotalCases,\n",
    "    SUM(Population) AS Population,\n",
    "    ROUND((SUM(TotalCases) / SUM(Population)) * 100, 2) AS Infection_Rates\n",
    "FROM \n",
    "    worldometer\n",
    "GROUP BY \n",
    "    `Country/Region`\n",
    "ORDER BY \n",
    "    Infection_Rates DESC\n",
    "limit 10;\n",
    "\"\"\"\n",
    "spark.sql(infected_highest).show()\n"
   ]
  },
  {
   "cell_type": "markdown",
   "metadata": {},
   "source": [
    "4. To find out the countries and continents with the highest death counts"
   ]
  },
  {
   "cell_type": "code",
   "execution_count": 119,
   "metadata": {},
   "outputs": [
    {
     "name": "stdout",
     "output_type": "stream",
     "text": [
      "+--------------+-------------+----------+----------+--------+-----------+---------+--------------+------------+-----------+----------------+----------------+-------------+----------+------------+--------------------+\n",
      "|Country/Region|    Continent|Population|TotalCases|NewCases|TotalDeaths|NewDeaths|TotalRecovered|NewRecovered|ActiveCases|Serious,Critical|Tot Cases/1M pop|Deaths/1M pop|TotalTests|Tests/1M pop|          WHO Region|\n",
      "+--------------+-------------+----------+----------+--------+-----------+---------+--------------+------------+-----------+----------------+----------------+-------------+----------+------------+--------------------+\n",
      "|           USA|North America| 331198130|   5032179|    NULL|     162804|     NULL|       2576668|        NULL|    2292707|           18296|           15194|        492.0|  63139605|      190640|            Americas|\n",
      "|        Brazil|South America| 212710692|   2917562|    NULL|      98644|     NULL|       2047660|        NULL|     771258|            8318|           13716|        464.0|  13206188|       62085|            Americas|\n",
      "|         India|         Asia|1381344997|   2025409|    NULL|      41638|     NULL|       1377384|        NULL|     606387|            8944|            1466|         30.0|  22149351|       16035|      South-EastAsia|\n",
      "|        Russia|       Europe| 145940924|    871894|    NULL|      14606|     NULL|        676357|        NULL|     180931|            2300|            5974|        100.0|  29716907|      203623|              Europe|\n",
      "|  South Africa|       Africa|  59381566|    538184|    NULL|       9604|     NULL|        387316|        NULL|     141264|             539|            9063|        162.0|   3149807|       53044|              Africa|\n",
      "|        Mexico|North America| 129066160|    462690|    6590|      50517|      819|        308848|        4140|     103325|            3987|            3585|        391.0|   1056915|        8189|            Americas|\n",
      "|          Peru|South America|  33016319|    455409|    NULL|      20424|     NULL|        310337|        NULL|     124648|            1426|           13793|        619.0|   2493429|       75521|            Americas|\n",
      "|         Chile|South America|  19132514|    366671|    NULL|       9889|     NULL|        340168|        NULL|      16614|            1358|           19165|        517.0|   1760615|       92022|            Americas|\n",
      "|      Colombia|South America|  50936262|    357710|    NULL|      11939|     NULL|        192355|        NULL|     153416|            1493|            7023|        234.0|   1801835|       35374|            Americas|\n",
      "|         Spain|       Europe|  46756648|    354530|    NULL|      28500|     NULL|          NULL|        NULL|       NULL|             617|            7582|        610.0|   7064329|      151087|              Europe|\n",
      "|          Iran|         Asia|  84097623|    320117|    NULL|      17976|     NULL|        277463|        NULL|      24678|            4156|            3806|        214.0|   2612763|       31068|EasternMediterranean|\n",
      "|            UK|       Europe|  67922029|    308134|    NULL|      46413|     NULL|          NULL|        NULL|       NULL|              73|            4537|        683.0|  17515234|      257873|              Europe|\n",
      "|  Saudi Arabia|         Asia|  34865919|    284226|    NULL|       3055|     NULL|        247089|        NULL|      34082|            1915|            8152|         88.0|   3635705|      104277|EasternMediterranean|\n",
      "|      Pakistan|         Asia| 221295851|    281863|    NULL|       6035|     NULL|        256058|        NULL|      19770|             809|            1274|         27.0|   2058872|        9304|EasternMediterranean|\n",
      "|    Bangladesh|         Asia| 164851401|    249651|    NULL|       3306|     NULL|        143824|        NULL|     102521|            NULL|            1514|         20.0|   1225124|        7432|      South-EastAsia|\n",
      "|         Italy|       Europe|  60452568|    249204|    NULL|      35187|     NULL|        201323|        NULL|      12694|              42|            4122|        582.0|   7099713|      117443|              Europe|\n",
      "|        Turkey|         Asia|  84428331|    237265|    NULL|       5798|     NULL|        220546|        NULL|      10921|             580|            2810|         69.0|   5081802|       60191|              Europe|\n",
      "|     Argentina|South America|  45236884|    228195|    NULL|       4251|     NULL|         99852|        NULL|     124092|            1150|            5044|         94.0|    794544|       17564|            Americas|\n",
      "|       Germany|       Europe|  83811260|    215210|    NULL|       9252|     NULL|        196200|        NULL|       9758|             236|            2568|        110.0|   8586648|      102452|              Europe|\n",
      "|        France|       Europe|  65288306|    195633|    NULL|      30312|     NULL|         82460|        NULL|      82861|             384|            2996|        464.0|   3992206|       61147|              Europe|\n",
      "+--------------+-------------+----------+----------+--------+-----------+---------+--------------+------------+-----------+----------------+----------------+-------------+----------+------------+--------------------+\n",
      "only showing top 20 rows\n",
      "\n",
      "root\n",
      " |-- Country/Region: string (nullable = true)\n",
      " |-- Continent: string (nullable = true)\n",
      " |-- Population: integer (nullable = true)\n",
      " |-- TotalCases: integer (nullable = true)\n",
      " |-- NewCases: integer (nullable = true)\n",
      " |-- TotalDeaths: integer (nullable = true)\n",
      " |-- NewDeaths: integer (nullable = true)\n",
      " |-- TotalRecovered: integer (nullable = true)\n",
      " |-- NewRecovered: integer (nullable = true)\n",
      " |-- ActiveCases: integer (nullable = true)\n",
      " |-- Serious,Critical: integer (nullable = true)\n",
      " |-- Tot Cases/1M pop: integer (nullable = true)\n",
      " |-- Deaths/1M pop: double (nullable = true)\n",
      " |-- TotalTests: integer (nullable = true)\n",
      " |-- Tests/1M pop: integer (nullable = true)\n",
      " |-- WHO Region: string (nullable = true)\n",
      "\n"
     ]
    }
   ],
   "source": [
    "#continenets with the highest death counts\n",
    "worldometer.show()\n",
    "worldometer.printSchema()"
   ]
  },
  {
   "cell_type": "code",
   "execution_count": 120,
   "metadata": {},
   "outputs": [
    {
     "name": "stdout",
     "output_type": "stream",
     "text": [
      "+-----------------+------------+\n",
      "|        Continent|total_deaths|\n",
      "+-----------------+------------+\n",
      "|    North America|      229855|\n",
      "|           Europe|      205232|\n",
      "|    South America|      154885|\n",
      "|             Asia|      100627|\n",
      "|           Africa|       22114|\n",
      "|Australia/Oceania|         281|\n",
      "|             NULL|          13|\n",
      "+-----------------+------------+\n",
      "\n"
     ]
    }
   ],
   "source": [
    "#continents with highest death counts\n",
    "continent_highest_deaths_counts=\"\"\"\n",
    "select\n",
    "\tContinent,\n",
    "\tsum(TotalDeaths) as total_deaths\n",
    "from\n",
    "\tworldometer\n",
    "group by \n",
    "\tContinent\n",
    "order by \n",
    "\ttotal_deaths desc;\"\"\"\n",
    "\n",
    "spark.sql(continent_highest_deaths_counts).show()"
   ]
  },
  {
   "cell_type": "code",
   "execution_count": 121,
   "metadata": {},
   "outputs": [
    {
     "name": "stdout",
     "output_type": "stream",
     "text": [
      "root\n",
      " |-- Province/State: string (nullable = true)\n",
      " |-- Country/Region: string (nullable = true)\n",
      " |-- Lat: double (nullable = true)\n",
      " |-- Long: double (nullable = true)\n",
      " |-- Date: date (nullable = true)\n",
      " |-- Confirmed: integer (nullable = true)\n",
      " |-- Deaths: integer (nullable = true)\n",
      " |-- Recovered: integer (nullable = true)\n",
      " |-- Active: integer (nullable = true)\n",
      " |-- WHO Region: string (nullable = true)\n",
      "\n",
      "+--------------------+-------------------+---------+----------+----------+---------+------+---------+------+--------------------+\n",
      "|      Province/State|     Country/Region|      Lat|      Long|      Date|Confirmed|Deaths|Recovered|Active|          WHO Region|\n",
      "+--------------------+-------------------+---------+----------+----------+---------+------+---------+------+--------------------+\n",
      "|                NULL|        Afghanistan| 33.93911| 67.709953|2020-01-22|        0|     0|        0|     0|Eastern Mediterra...|\n",
      "|                NULL|            Albania|  41.1533|   20.1683|2020-01-22|        0|     0|        0|     0|              Europe|\n",
      "|                NULL|            Algeria|  28.0339|    1.6596|2020-01-22|        0|     0|        0|     0|              Africa|\n",
      "|                NULL|            Andorra|  42.5063|    1.5218|2020-01-22|        0|     0|        0|     0|              Europe|\n",
      "|                NULL|             Angola| -11.2027|   17.8739|2020-01-22|        0|     0|        0|     0|              Africa|\n",
      "|                NULL|Antigua and Barbuda|  17.0608|  -61.7964|2020-01-22|        0|     0|        0|     0|            Americas|\n",
      "|                NULL|          Argentina| -38.4161|  -63.6167|2020-01-22|        0|     0|        0|     0|            Americas|\n",
      "|                NULL|            Armenia|  40.0691|   45.0382|2020-01-22|        0|     0|        0|     0|              Europe|\n",
      "|Australian Capita...|          Australia| -35.4735|  149.0124|2020-01-22|        0|     0|        0|     0|     Western Pacific|\n",
      "|     New South Wales|          Australia| -33.8688|  151.2093|2020-01-22|        0|     0|        0|     0|     Western Pacific|\n",
      "|  Northern Territory|          Australia| -12.4634|  130.8456|2020-01-22|        0|     0|        0|     0|     Western Pacific|\n",
      "|          Queensland|          Australia| -27.4698|  153.0251|2020-01-22|        0|     0|        0|     0|     Western Pacific|\n",
      "|     South Australia|          Australia| -34.9285|  138.6007|2020-01-22|        0|     0|        0|     0|     Western Pacific|\n",
      "|            Tasmania|          Australia| -42.8821|  147.3272|2020-01-22|        0|     0|        0|     0|     Western Pacific|\n",
      "|            Victoria|          Australia| -37.8136|  144.9631|2020-01-22|        0|     0|        0|     0|     Western Pacific|\n",
      "|   Western Australia|          Australia| -31.9505|  115.8605|2020-01-22|        0|     0|        0|     0|     Western Pacific|\n",
      "|                NULL|            Austria|  47.5162|   14.5501|2020-01-22|        0|     0|        0|     0|              Europe|\n",
      "|                NULL|         Azerbaijan|  40.1431|   47.5769|2020-01-22|        0|     0|        0|     0|              Europe|\n",
      "|                NULL|            Bahamas|25.025885|-78.035889|2020-01-22|        0|     0|        0|     0|            Americas|\n",
      "|                NULL|            Bahrain|  26.0275|     50.55|2020-01-22|        0|     0|        0|     0|Eastern Mediterra...|\n",
      "+--------------------+-------------------+---------+----------+----------+---------+------+---------+------+--------------------+\n",
      "only showing top 20 rows\n",
      "\n"
     ]
    }
   ],
   "source": [
    "#reading a file and showing a schema\n",
    "covid_19_clean_complete.printSchema()\n",
    "covid_19_clean_complete.show()"
   ]
  },
  {
   "cell_type": "code",
   "execution_count": 122,
   "metadata": {},
   "outputs": [
    {
     "name": "stdout",
     "output_type": "stream",
     "text": [
      "+--------------+------------+\n",
      "|Country/Region|total_deaths|\n",
      "+--------------+------------+\n",
      "|            US|    11011411|\n",
      "|United Kingdom|     3997775|\n",
      "|        Brazil|     3938034|\n",
      "|         Italy|     3707717|\n",
      "|        France|     3048524|\n",
      "|         Spain|     3033030|\n",
      "|        Mexico|     1728277|\n",
      "|         India|     1111831|\n",
      "|          Iran|     1024136|\n",
      "|       Belgium|      963679|\n",
      "|       Germany|      871322|\n",
      "|        Canada|      699566|\n",
      "|         China|      672413|\n",
      "|          Peru|      652113|\n",
      "|   Netherlands|      622314|\n",
      "|        Russia|      619385|\n",
      "|        Turkey|      466056|\n",
      "|        Sweden|      448913|\n",
      "|       Ecuador|      346618|\n",
      "|         Chile|      322480|\n",
      "+--------------+------------+\n",
      "only showing top 20 rows\n",
      "\n"
     ]
    }
   ],
   "source": [
    "#country with highest deaths\n",
    "country_highest_deaths_count=\"\"\"\n",
    "select \n",
    "\t\t`Country/Region`,\n",
    "\t\tsum(Deaths) as total_deaths\n",
    "from \n",
    "\tcovid_19_clean_complete\n",
    "group by\n",
    "\t`Country/Region`\n",
    "order by\n",
    "\ttotal_deaths desc;\"\"\"\n",
    "spark.sql(country_highest_deaths_count).show()"
   ]
  },
  {
   "cell_type": "markdown",
   "metadata": {},
   "source": [
    "5. Average number of deaths by day (Continents and Countries) "
   ]
  },
  {
   "cell_type": "code",
   "execution_count": 123,
   "metadata": {},
   "outputs": [
    {
     "name": "stdout",
     "output_type": "stream",
     "text": [
      "root\n",
      " |-- Province/State: string (nullable = true)\n",
      " |-- Country/Region: string (nullable = true)\n",
      " |-- Lat: double (nullable = true)\n",
      " |-- Long: double (nullable = true)\n",
      " |-- Date: date (nullable = true)\n",
      " |-- Confirmed: integer (nullable = true)\n",
      " |-- Deaths: integer (nullable = true)\n",
      " |-- Recovered: integer (nullable = true)\n",
      " |-- Active: integer (nullable = true)\n",
      " |-- WHO Region: string (nullable = true)\n",
      "\n",
      "+--------------------+-------------------+---------+----------+----------+---------+------+---------+------+--------------------+\n",
      "|      Province/State|     Country/Region|      Lat|      Long|      Date|Confirmed|Deaths|Recovered|Active|          WHO Region|\n",
      "+--------------------+-------------------+---------+----------+----------+---------+------+---------+------+--------------------+\n",
      "|                NULL|        Afghanistan| 33.93911| 67.709953|2020-01-22|        0|     0|        0|     0|Eastern Mediterra...|\n",
      "|                NULL|            Albania|  41.1533|   20.1683|2020-01-22|        0|     0|        0|     0|              Europe|\n",
      "|                NULL|            Algeria|  28.0339|    1.6596|2020-01-22|        0|     0|        0|     0|              Africa|\n",
      "|                NULL|            Andorra|  42.5063|    1.5218|2020-01-22|        0|     0|        0|     0|              Europe|\n",
      "|                NULL|             Angola| -11.2027|   17.8739|2020-01-22|        0|     0|        0|     0|              Africa|\n",
      "|                NULL|Antigua and Barbuda|  17.0608|  -61.7964|2020-01-22|        0|     0|        0|     0|            Americas|\n",
      "|                NULL|          Argentina| -38.4161|  -63.6167|2020-01-22|        0|     0|        0|     0|            Americas|\n",
      "|                NULL|            Armenia|  40.0691|   45.0382|2020-01-22|        0|     0|        0|     0|              Europe|\n",
      "|Australian Capita...|          Australia| -35.4735|  149.0124|2020-01-22|        0|     0|        0|     0|     Western Pacific|\n",
      "|     New South Wales|          Australia| -33.8688|  151.2093|2020-01-22|        0|     0|        0|     0|     Western Pacific|\n",
      "|  Northern Territory|          Australia| -12.4634|  130.8456|2020-01-22|        0|     0|        0|     0|     Western Pacific|\n",
      "|          Queensland|          Australia| -27.4698|  153.0251|2020-01-22|        0|     0|        0|     0|     Western Pacific|\n",
      "|     South Australia|          Australia| -34.9285|  138.6007|2020-01-22|        0|     0|        0|     0|     Western Pacific|\n",
      "|            Tasmania|          Australia| -42.8821|  147.3272|2020-01-22|        0|     0|        0|     0|     Western Pacific|\n",
      "|            Victoria|          Australia| -37.8136|  144.9631|2020-01-22|        0|     0|        0|     0|     Western Pacific|\n",
      "|   Western Australia|          Australia| -31.9505|  115.8605|2020-01-22|        0|     0|        0|     0|     Western Pacific|\n",
      "|                NULL|            Austria|  47.5162|   14.5501|2020-01-22|        0|     0|        0|     0|              Europe|\n",
      "|                NULL|         Azerbaijan|  40.1431|   47.5769|2020-01-22|        0|     0|        0|     0|              Europe|\n",
      "|                NULL|            Bahamas|25.025885|-78.035889|2020-01-22|        0|     0|        0|     0|            Americas|\n",
      "|                NULL|            Bahrain|  26.0275|     50.55|2020-01-22|        0|     0|        0|     0|Eastern Mediterra...|\n",
      "+--------------------+-------------------+---------+----------+----------+---------+------+---------+------+--------------------+\n",
      "only showing top 20 rows\n",
      "\n"
     ]
    }
   ],
   "source": [
    "#countries with highest death counts\n",
    "covid_19_clean_complete.printSchema()\n",
    "covid_19_clean_complete.show()\n"
   ]
  },
  {
   "cell_type": "code",
   "execution_count": 124,
   "metadata": {},
   "outputs": [
    {
     "name": "stdout",
     "output_type": "stream",
     "text": [
      "+--------------+----------------------+\n",
      "|Country/Region|deaths_per_day_average|\n",
      "+--------------+----------------------+\n",
      "|            US|              58571.34|\n",
      "|United Kingdom|              21264.76|\n",
      "|        Brazil|              20946.99|\n",
      "|         Italy|               19721.9|\n",
      "|        France|              16215.55|\n",
      "|         Spain|              16133.14|\n",
      "|        Mexico|               9192.96|\n",
      "|         India|               5913.99|\n",
      "|          Iran|               5447.53|\n",
      "|       Belgium|               5125.95|\n",
      "|       Germany|               4634.69|\n",
      "|        Canada|                3721.1|\n",
      "|         China|               3576.66|\n",
      "|          Peru|               3468.69|\n",
      "|   Netherlands|               3310.18|\n",
      "|        Russia|                3294.6|\n",
      "|        Turkey|               2479.02|\n",
      "|        Sweden|               2387.84|\n",
      "|       Ecuador|               1843.71|\n",
      "|         Chile|               1715.32|\n",
      "+--------------+----------------------+\n",
      "only showing top 20 rows\n",
      "\n"
     ]
    }
   ],
   "source": [
    "#country average death perday\n",
    "country_average_perDay_deaths=\"\"\"\n",
    "select \n",
    "\t`Country/Region`,\n",
    "\tround(sum(deaths)/count(distinct date),2) as deaths_per_day_average\n",
    "from \n",
    "\tcovid_19_clean_complete\n",
    "group by \n",
    "\t`Country/Region`\n",
    "order by\n",
    "\tdeaths_per_day_average desc;\"\"\"\n",
    "spark.sql(country_average_perDay_deaths).show()"
   ]
  },
  {
   "cell_type": "code",
   "execution_count": 125,
   "metadata": {},
   "outputs": [
    {
     "name": "stdout",
     "output_type": "stream",
     "text": [
      "root\n",
      " |-- Province/State: string (nullable = true)\n",
      " |-- Country/Region: string (nullable = true)\n",
      " |-- Lat: double (nullable = true)\n",
      " |-- Long: double (nullable = true)\n",
      " |-- Date: date (nullable = true)\n",
      " |-- Confirmed: integer (nullable = true)\n",
      " |-- Deaths: integer (nullable = true)\n",
      " |-- Recovered: integer (nullable = true)\n",
      " |-- Active: integer (nullable = true)\n",
      " |-- WHO Region: string (nullable = true)\n",
      "\n",
      "+--------------------+-------------------+---------+----------+----------+---------+------+---------+------+--------------------+\n",
      "|      Province/State|     Country/Region|      Lat|      Long|      Date|Confirmed|Deaths|Recovered|Active|          WHO Region|\n",
      "+--------------------+-------------------+---------+----------+----------+---------+------+---------+------+--------------------+\n",
      "|                NULL|        Afghanistan| 33.93911| 67.709953|2020-01-22|        0|     0|        0|     0|Eastern Mediterra...|\n",
      "|                NULL|            Albania|  41.1533|   20.1683|2020-01-22|        0|     0|        0|     0|              Europe|\n",
      "|                NULL|            Algeria|  28.0339|    1.6596|2020-01-22|        0|     0|        0|     0|              Africa|\n",
      "|                NULL|            Andorra|  42.5063|    1.5218|2020-01-22|        0|     0|        0|     0|              Europe|\n",
      "|                NULL|             Angola| -11.2027|   17.8739|2020-01-22|        0|     0|        0|     0|              Africa|\n",
      "|                NULL|Antigua and Barbuda|  17.0608|  -61.7964|2020-01-22|        0|     0|        0|     0|            Americas|\n",
      "|                NULL|          Argentina| -38.4161|  -63.6167|2020-01-22|        0|     0|        0|     0|            Americas|\n",
      "|                NULL|            Armenia|  40.0691|   45.0382|2020-01-22|        0|     0|        0|     0|              Europe|\n",
      "|Australian Capita...|          Australia| -35.4735|  149.0124|2020-01-22|        0|     0|        0|     0|     Western Pacific|\n",
      "|     New South Wales|          Australia| -33.8688|  151.2093|2020-01-22|        0|     0|        0|     0|     Western Pacific|\n",
      "|  Northern Territory|          Australia| -12.4634|  130.8456|2020-01-22|        0|     0|        0|     0|     Western Pacific|\n",
      "|          Queensland|          Australia| -27.4698|  153.0251|2020-01-22|        0|     0|        0|     0|     Western Pacific|\n",
      "|     South Australia|          Australia| -34.9285|  138.6007|2020-01-22|        0|     0|        0|     0|     Western Pacific|\n",
      "|            Tasmania|          Australia| -42.8821|  147.3272|2020-01-22|        0|     0|        0|     0|     Western Pacific|\n",
      "|            Victoria|          Australia| -37.8136|  144.9631|2020-01-22|        0|     0|        0|     0|     Western Pacific|\n",
      "|   Western Australia|          Australia| -31.9505|  115.8605|2020-01-22|        0|     0|        0|     0|     Western Pacific|\n",
      "|                NULL|            Austria|  47.5162|   14.5501|2020-01-22|        0|     0|        0|     0|              Europe|\n",
      "|                NULL|         Azerbaijan|  40.1431|   47.5769|2020-01-22|        0|     0|        0|     0|              Europe|\n",
      "|                NULL|            Bahamas|25.025885|-78.035889|2020-01-22|        0|     0|        0|     0|            Americas|\n",
      "|                NULL|            Bahrain|  26.0275|     50.55|2020-01-22|        0|     0|        0|     0|Eastern Mediterra...|\n",
      "+--------------------+-------------------+---------+----------+----------+---------+------+---------+------+--------------------+\n",
      "only showing top 20 rows\n",
      "\n"
     ]
    }
   ],
   "source": [
    "#reading a file and showing the schema\n",
    "covid_19_clean_complete.printSchema()\n",
    "covid_19_clean_complete.show()"
   ]
  },
  {
   "cell_type": "code",
   "execution_count": 126,
   "metadata": {},
   "outputs": [
    {
     "name": "stdout",
     "output_type": "stream",
     "text": [
      "+-----------------+----------------------+\n",
      "|        Continent|deaths_per_day_average|\n",
      "+-----------------+----------------------+\n",
      "|           Africa|               3628.02|\n",
      "|             Asia|              20654.07|\n",
      "|Australia/Oceania|                 72.18|\n",
      "|           Europe|              78134.58|\n",
      "|    North America|              14181.08|\n",
      "|    South America|              30222.54|\n",
      "+-----------------+----------------------+\n",
      "\n"
     ]
    }
   ],
   "source": [
    "#deaths average per day for the continent\n",
    "continent_average_perDay_deaths=\"\"\"\n",
    "select\n",
    "\tw.Continent,\n",
    "\tround(sum(c.Deaths)/count(distinct c.Date),2) as deaths_per_day_average\n",
    "from \n",
    "\tcovid_19_clean_complete c\n",
    "join \n",
    "\tworldometer w \n",
    "on\n",
    "\tw.`Country/Region`=c.`Country/Region`\n",
    "group by\n",
    "\tw.Continent\n",
    "order by\n",
    "\tw.Continent;\"\"\"\n",
    "spark.sql(continent_average_perDay_deaths).show()"
   ]
  },
  {
   "cell_type": "markdown",
   "metadata": {},
   "source": [
    "6. Average of cases divided by the number of population of each country (TOP 10) "
   ]
  },
  {
   "cell_type": "code",
   "execution_count": 127,
   "metadata": {},
   "outputs": [
    {
     "name": "stdout",
     "output_type": "stream",
     "text": [
      "root\n",
      " |-- Country/Region: string (nullable = true)\n",
      " |-- Continent: string (nullable = true)\n",
      " |-- Population: integer (nullable = true)\n",
      " |-- TotalCases: integer (nullable = true)\n",
      " |-- NewCases: integer (nullable = true)\n",
      " |-- TotalDeaths: integer (nullable = true)\n",
      " |-- NewDeaths: integer (nullable = true)\n",
      " |-- TotalRecovered: integer (nullable = true)\n",
      " |-- NewRecovered: integer (nullable = true)\n",
      " |-- ActiveCases: integer (nullable = true)\n",
      " |-- Serious,Critical: integer (nullable = true)\n",
      " |-- Tot Cases/1M pop: integer (nullable = true)\n",
      " |-- Deaths/1M pop: double (nullable = true)\n",
      " |-- TotalTests: integer (nullable = true)\n",
      " |-- Tests/1M pop: integer (nullable = true)\n",
      " |-- WHO Region: string (nullable = true)\n",
      "\n",
      "+--------------+-------------+----------+----------+--------+-----------+---------+--------------+------------+-----------+----------------+----------------+-------------+----------+------------+--------------------+\n",
      "|Country/Region|    Continent|Population|TotalCases|NewCases|TotalDeaths|NewDeaths|TotalRecovered|NewRecovered|ActiveCases|Serious,Critical|Tot Cases/1M pop|Deaths/1M pop|TotalTests|Tests/1M pop|          WHO Region|\n",
      "+--------------+-------------+----------+----------+--------+-----------+---------+--------------+------------+-----------+----------------+----------------+-------------+----------+------------+--------------------+\n",
      "|           USA|North America| 331198130|   5032179|    NULL|     162804|     NULL|       2576668|        NULL|    2292707|           18296|           15194|        492.0|  63139605|      190640|            Americas|\n",
      "|        Brazil|South America| 212710692|   2917562|    NULL|      98644|     NULL|       2047660|        NULL|     771258|            8318|           13716|        464.0|  13206188|       62085|            Americas|\n",
      "|         India|         Asia|1381344997|   2025409|    NULL|      41638|     NULL|       1377384|        NULL|     606387|            8944|            1466|         30.0|  22149351|       16035|      South-EastAsia|\n",
      "|        Russia|       Europe| 145940924|    871894|    NULL|      14606|     NULL|        676357|        NULL|     180931|            2300|            5974|        100.0|  29716907|      203623|              Europe|\n",
      "|  South Africa|       Africa|  59381566|    538184|    NULL|       9604|     NULL|        387316|        NULL|     141264|             539|            9063|        162.0|   3149807|       53044|              Africa|\n",
      "|        Mexico|North America| 129066160|    462690|    6590|      50517|      819|        308848|        4140|     103325|            3987|            3585|        391.0|   1056915|        8189|            Americas|\n",
      "|          Peru|South America|  33016319|    455409|    NULL|      20424|     NULL|        310337|        NULL|     124648|            1426|           13793|        619.0|   2493429|       75521|            Americas|\n",
      "|         Chile|South America|  19132514|    366671|    NULL|       9889|     NULL|        340168|        NULL|      16614|            1358|           19165|        517.0|   1760615|       92022|            Americas|\n",
      "|      Colombia|South America|  50936262|    357710|    NULL|      11939|     NULL|        192355|        NULL|     153416|            1493|            7023|        234.0|   1801835|       35374|            Americas|\n",
      "|         Spain|       Europe|  46756648|    354530|    NULL|      28500|     NULL|          NULL|        NULL|       NULL|             617|            7582|        610.0|   7064329|      151087|              Europe|\n",
      "|          Iran|         Asia|  84097623|    320117|    NULL|      17976|     NULL|        277463|        NULL|      24678|            4156|            3806|        214.0|   2612763|       31068|EasternMediterranean|\n",
      "|            UK|       Europe|  67922029|    308134|    NULL|      46413|     NULL|          NULL|        NULL|       NULL|              73|            4537|        683.0|  17515234|      257873|              Europe|\n",
      "|  Saudi Arabia|         Asia|  34865919|    284226|    NULL|       3055|     NULL|        247089|        NULL|      34082|            1915|            8152|         88.0|   3635705|      104277|EasternMediterranean|\n",
      "|      Pakistan|         Asia| 221295851|    281863|    NULL|       6035|     NULL|        256058|        NULL|      19770|             809|            1274|         27.0|   2058872|        9304|EasternMediterranean|\n",
      "|    Bangladesh|         Asia| 164851401|    249651|    NULL|       3306|     NULL|        143824|        NULL|     102521|            NULL|            1514|         20.0|   1225124|        7432|      South-EastAsia|\n",
      "|         Italy|       Europe|  60452568|    249204|    NULL|      35187|     NULL|        201323|        NULL|      12694|              42|            4122|        582.0|   7099713|      117443|              Europe|\n",
      "|        Turkey|         Asia|  84428331|    237265|    NULL|       5798|     NULL|        220546|        NULL|      10921|             580|            2810|         69.0|   5081802|       60191|              Europe|\n",
      "|     Argentina|South America|  45236884|    228195|    NULL|       4251|     NULL|         99852|        NULL|     124092|            1150|            5044|         94.0|    794544|       17564|            Americas|\n",
      "|       Germany|       Europe|  83811260|    215210|    NULL|       9252|     NULL|        196200|        NULL|       9758|             236|            2568|        110.0|   8586648|      102452|              Europe|\n",
      "|        France|       Europe|  65288306|    195633|    NULL|      30312|     NULL|         82460|        NULL|      82861|             384|            2996|        464.0|   3992206|       61147|              Europe|\n",
      "+--------------+-------------+----------+----------+--------+-----------+---------+--------------+------------+-----------+----------------+----------------+-------------+----------+------------+--------------------+\n",
      "only showing top 20 rows\n",
      "\n"
     ]
    }
   ],
   "source": [
    "#reading a file and  showing schema\n",
    "worldometer.printSchema()\n",
    "worldometer.show()"
   ]
  },
  {
   "cell_type": "code",
   "execution_count": 128,
   "metadata": {},
   "outputs": [
    {
     "name": "stdout",
     "output_type": "stream",
     "text": [
      "+--------------+--------------------+\n",
      "|Country/Region|cases_per_population|\n",
      "+--------------+--------------------+\n",
      "|         Qatar|                0.04|\n",
      "| French Guiana|                0.03|\n",
      "|       Bahrain|                0.03|\n",
      "|    San Marino|                0.02|\n",
      "|        Kuwait|                0.02|\n",
      "|         Chile|                0.02|\n",
      "|        Panama|                0.02|\n",
      "|           USA|                0.02|\n",
      "|          Oman|                0.02|\n",
      "|     Singapore|                0.01|\n",
      "+--------------+--------------------+\n",
      "\n"
     ]
    }
   ],
   "source": [
    "#average cases in countries\n",
    "average_cases_country=\"\"\"\n",
    "SELECT \n",
    "    `Country/Region`,\n",
    "    ROUND( AVG(TotalCases) /  MAX(Population), 2) AS cases_per_population\n",
    "FROM \n",
    "    Global_data\n",
    "GROUP BY \n",
    "    `Country/Region`\n",
    "ORDER BY \n",
    "    cases_per_population desc\n",
    "limit 10;\"\"\"\n",
    "spark.sql(average_cases_country).show()"
   ]
  }
 ],
 "metadata": {
  "kernelspec": {
   "display_name": "Python 3.12.3 64-bit",
   "language": "python",
   "name": "python3"
  },
  "language_info": {
   "codemirror_mode": {
    "name": "ipython",
    "version": 3
   },
   "file_extension": ".py",
   "mimetype": "text/x-python",
   "name": "python",
   "nbconvert_exporter": "python",
   "pygments_lexer": "ipython3",
   "version": "3.12.3"
  },
  "orig_nbformat": 4,
  "vscode": {
   "interpreter": {
    "hash": "3fcbd7240ee8f908d933dc7f71e8c42a1a91163b70ede8dcff5146d4087436c7"
   }
  }
 },
 "nbformat": 4,
 "nbformat_minor": 2
}
