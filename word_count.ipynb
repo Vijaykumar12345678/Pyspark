{
 "cells": [
  {
   "cell_type": "markdown",
   "metadata": {},
   "source": [
    "@Author:Vijay Kumar M N<br>\n",
    "@Date: 2024-10-14<br>\n",
    "@Last Modified by: Vijay Kumar M N<br>\n",
    "@Last Modified: 2024-10-14<br>\n",
    "@Title : Word count program using pyspark<br>"
   ]
  },
  {
   "cell_type": "code",
   "execution_count": 25,
   "metadata": {},
   "outputs": [],
   "source": [
    "from pyspark.sql import SparkSession\n",
    "from pyspark.sql.functions import explode,split"
   ]
  },
  {
   "cell_type": "code",
   "execution_count": 26,
   "metadata": {},
   "outputs": [],
   "source": [
    "#creating a sparksession\n",
    "spark=SparkSession.builder.appName(\"Word_Count_Program\").master(\"local[*]\").getOrCreate()"
   ]
  },
  {
   "cell_type": "code",
   "execution_count": 27,
   "metadata": {},
   "outputs": [
    {
     "data": {
      "text/html": [
       "\n",
       "            <div>\n",
       "                <p><b>SparkSession - in-memory</b></p>\n",
       "                \n",
       "        <div>\n",
       "            <p><b>SparkContext</b></p>\n",
       "\n",
       "            <p><a href=\"http://DESKTOP-9ELS0L3:4040\">Spark UI</a></p>\n",
       "\n",
       "            <dl>\n",
       "              <dt>Version</dt>\n",
       "                <dd><code>v3.5.3</code></dd>\n",
       "              <dt>Master</dt>\n",
       "                <dd><code>local[*]</code></dd>\n",
       "              <dt>AppName</dt>\n",
       "                <dd><code>Word_Count_Program</code></dd>\n",
       "            </dl>\n",
       "        </div>\n",
       "        \n",
       "            </div>\n",
       "        "
      ],
      "text/plain": [
       "<pyspark.sql.session.SparkSession at 0x1c5a6af8530>"
      ]
     },
     "execution_count": 27,
     "metadata": {},
     "output_type": "execute_result"
    }
   ],
   "source": [
    "spark"
   ]
  },
  {
   "cell_type": "code",
   "execution_count": 31,
   "metadata": {},
   "outputs": [
    {
     "name": "stdout",
     "output_type": "stream",
     "text": [
      "+--------------------+\n",
      "|               value|\n",
      "+--------------------+\n",
      "| Covid-Data-Global :|\n",
      "|1. To find out th...|\n",
      "|2. To find out th...|\n",
      "|3. To find out th...|\n",
      "|4. To find out th...|\n",
      "|5. Average number...|\n",
      "|6. Average of cas...|\n",
      "|7. Considering th...|\n",
      "|                    |\n",
      "|Using JOINS to co...|\n",
      "|1. To find out th...|\n",
      "|2. To find out th...|\n",
      "|3. To find out pe...|\n",
      "|                    |\n",
      "|Additonal Practic...|\n",
      "|                    |\n",
      "|                    |\n",
      "|                    |\n",
      "|                    |\n",
      "|  SELECT TABLE_NAME |\n",
      "+--------------------+\n",
      "only showing top 20 rows\n",
      "\n",
      "+-----------------+\n",
      "|             word|\n",
      "+-----------------+\n",
      "|Covid-Data-Global|\n",
      "|                :|\n",
      "|               1.|\n",
      "|               To|\n",
      "|             find|\n",
      "|              out|\n",
      "|              the|\n",
      "|            death|\n",
      "|       percentage|\n",
      "|          locally|\n",
      "|              and|\n",
      "|         globally|\n",
      "|               2.|\n",
      "|               To|\n",
      "|             find|\n",
      "|              out|\n",
      "|              the|\n",
      "|         infected|\n",
      "|       population|\n",
      "|       percentage|\n",
      "+-----------------+\n",
      "only showing top 20 rows\n",
      "\n"
     ]
    }
   ],
   "source": [
    "rd1 = spark.read.text(\"C:/Users/Admin/Downloads/sqlquestion.txt\")\n",
    "rd1.show()\n",
    "rd2=rd1.select(explode(split(rd1.value,\" \")).alias(\"word\"))\n",
    "rd2.show()"
   ]
  },
  {
   "cell_type": "code",
   "execution_count": 32,
   "metadata": {},
   "outputs": [
    {
     "name": "stdout",
     "output_type": "stream",
     "text": [
      "+----------------+-----+\n",
      "|word            |count|\n",
      "+----------------+-----+\n",
      "|highest         |13   |\n",
      "|Total_Confirmed,|1    |\n",
      "|ld              |2    |\n",
      "|\\tCountry_Region|1    |\n",
      "|globally        |6    |\n",
      "|countries       |11   |\n",
      "|0),2)           |1    |\n",
      "|day             |3    |\n",
      "|joins           |1    |\n",
      "|Region]         |6    |\n",
      "|Calculate       |1    |\n",
      "|--Using         |2    |\n",
      "|Administered]   |9    |\n",
      "|float))         |2    |\n",
      "|country,        |1    |\n",
      "|Aggregate       |1    |\n",
      "|*100            |1    |\n",
      "|Globally        |1    |\n",
      "|=               |13   |\n",
      "|--1.            |3    |\n",
      "+----------------+-----+\n",
      "only showing top 20 rows\n",
      "\n"
     ]
    }
   ],
   "source": [
    "word_count=rd2.groupBy(\"word\").count()\n",
    "word_count.show(truncate=False)"
   ]
  },
  {
   "cell_type": "code",
   "execution_count": null,
   "metadata": {},
   "outputs": [],
   "source": []
  }
 ],
 "metadata": {
  "kernelspec": {
   "display_name": "Python 3.12.3 64-bit",
   "language": "python",
   "name": "python3"
  },
  "language_info": {
   "codemirror_mode": {
    "name": "ipython",
    "version": 3
   },
   "file_extension": ".py",
   "mimetype": "text/x-python",
   "name": "python",
   "nbconvert_exporter": "python",
   "pygments_lexer": "ipython3",
   "version": "3.12.3"
  },
  "orig_nbformat": 4,
  "vscode": {
   "interpreter": {
    "hash": "3fcbd7240ee8f908d933dc7f71e8c42a1a91163b70ede8dcff5146d4087436c7"
   }
  }
 },
 "nbformat": 4,
 "nbformat_minor": 2
}
